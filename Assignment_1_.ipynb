{
  "nbformat": 4,
  "nbformat_minor": 0,
  "metadata": {
    "colab": {
      "name": "Assignment 1 .ipynb",
      "provenance": [],
      "authorship_tag": "ABX9TyOLMoPwGM2JJNhVTl6tHqgE",
      "include_colab_link": true
    },
    "kernelspec": {
      "name": "python3",
      "display_name": "Python 3"
    },
    "language_info": {
      "name": "python"
    }
  },
  "cells": [
    {
      "cell_type": "markdown",
      "metadata": {
        "id": "view-in-github",
        "colab_type": "text"
      },
      "source": [
        "<a href=\"https://colab.research.google.com/github/Jzsimmonds/My_Journey_in_INTRO-2-ASTRO-2022/blob/main/Assignment_1_.ipynb\" target=\"_parent\"><img src=\"https://colab.research.google.com/assets/colab-badge.svg\" alt=\"Open In Colab\"/></a>"
      ]
    },
    {
      "cell_type": "code",
      "execution_count": null,
      "metadata": {
        "id": "_zEqYcWDbEl5"
      },
      "outputs": [],
      "source": [
        "#list all of the unix commands that you learned, with a brief description\n",
        "#Open the git bash on windows \n",
        "#Useful commands \n",
        "$ ls #Is for list the contents of the current directory\n",
        "$ pwd #Is for find out where we are, in which directory\n",
        "$ ls -F #prints the contens of current directory in a classify way by adding an marker\n",
        "$ clear #Is for clear the terminal of commands \n",
        "$ command --help #Is for know more about on how to use a determined command\n",
        "$ cd #Is for change the current directory \n",
        "$ mkdir #Is for create a new directory \n",
        "$ nano name.txt #Is for create a text document \n",
        "$ mv thesis/draft.txt thesis/quotes.txt #The first argument tells mv what we’re ‘moving’, while the second is where it’s to go. In this case, we’re moving thesis/draft.txt to thesis/quotes.txt\n",
        "$ cp #Is for coping a file\n",
        "$ wc #is the ‘word count’ command: it counts the number of lines, words, and characters in files (from left to right, in that order)\n",
        "$ echo hello world #Is for `print from terminal"
      ]
    }
  ]
}